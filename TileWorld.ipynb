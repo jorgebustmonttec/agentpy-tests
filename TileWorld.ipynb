{
 "cells": [
  {
   "cell_type": "code",
   "execution_count": 1,
   "metadata": {},
   "outputs": [],
   "source": [
    "import agentpy as ap  # Library for creating agents\n",
    "import numpy as np  # NumPy library for numerical operations\n",
    "import matplotlib.pyplot as plt  # Library for plotting\n",
    "import seaborn as sns  # Library for statistical data visualization\n",
    "from random import randint  # For generating random numbers\n",
    "import IPython  # For displaying videos in the notebook\n",
    "from matplotlib.animation import FuncAnimation  # For creating animations (used by agentpy)\n",
    "DIRECTIONS = [        (1, 0),  # Possible directions for agent movement\n",
    "              (0, -1),       (0, 1),\n",
    "                      (-1, 0)]\n"
   ]
  },
  {
   "cell_type": "code",
   "execution_count": 4,
   "metadata": {},
   "outputs": [],
   "source": [
    "class MovingAgent(ap.Agent):\n",
    "    def setup(self):\n",
    "        self.type = 1  # Type of agent, 1 for moving agent\n",
    "        self.position = None # Initial position (x, y)\n",
    "        self.old_position = None #to detect collisions\n",
    "        self.push_pos = None # Position to get to to push the box (x, y)\n",
    "        self.pushing = False # Whether the agent is pushing a box\n",
    "        self.chosen_box = None # Box to push\n",
    "        self.chosen_hole = None # Hole to push the box into\n",
    "\n",
    "    def action(self): # Agent's action, func to call other funcs\n",
    "        pass\n",
    "        \n",
    "\n",
    "    def get_distance(self, pos1, pos2):\n",
    "        pass\n",
    "    \n",
    "    def get_nearest(self, type):\n",
    "        pass\n",
    "        \n",
    "\n",
    "    def get_position(self):\n",
    "        return self.model.ground.positions[self]\n"
   ]
  },
  {
   "cell_type": "code",
   "execution_count": 7,
   "metadata": {},
   "outputs": [],
   "source": [
    "class TileWorld(ap.Model):\n",
    "    # Called at the start of the simulation\n",
    "    def setup(self):\n",
    "        self.grid = ap.Grid(self, (self.p.width, self.p.height), track_empty=True, check_border=True)\n",
    "        self.moving_agents = ap.AgentList(self, self.p.n_moving_agents, MovingAgent)\n",
    "        self.boxes = ap.AgentList(self, self.p.n_boxes)\n",
    "        self.holes = ap.AgentList(self, self.p.n_holes)\n",
    "        self.obstacles = ap.AgentList(self, self.p.n_obstacles)\n",
    "    \n",
    "    def step(self):\n",
    "        # Called at each step of the simulation\n",
    "        pass\n",
    "\n",
    "    def update(self):\n",
    "        # Called after each step of the simulation\n",
    "\n",
    "        "
   ]
  },
  {
   "cell_type": "code",
   "execution_count": null,
   "metadata": {},
   "outputs": [],
   "source": [
    "parameters = {\n",
    "    'width': 20,\n",
    "    'height': 20,\n",
    "    'n_agents': 5,\n",
    "    'n_boxes': 20,\n",
    "    'n_obstacles': 20,\n",
    "    'n-holes': 20\n",
    "}"
   ]
  }
 ],
 "metadata": {
  "kernelspec": {
   "display_name": "Python 3",
   "language": "python",
   "name": "python3"
  },
  "language_info": {
   "codemirror_mode": {
    "name": "ipython",
    "version": 3
   },
   "file_extension": ".py",
   "mimetype": "text/x-python",
   "name": "python",
   "nbconvert_exporter": "python",
   "pygments_lexer": "ipython3",
   "version": "3.9.6"
  }
 },
 "nbformat": 4,
 "nbformat_minor": 2
}
